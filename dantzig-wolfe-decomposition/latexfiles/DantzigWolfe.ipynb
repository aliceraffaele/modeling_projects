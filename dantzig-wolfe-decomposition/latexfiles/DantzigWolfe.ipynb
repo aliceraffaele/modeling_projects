{
 "cells": [
  {
   "cell_type": "code",
   "execution_count": null,
   "metadata": {},
   "outputs": [],
   "source": [
    "\n",
    "param m; #'dimension' how many independent systems\n",
    "set N; #rows of this systems\n",
    "set M; #columns of this systems\n",
    "\n",
    "set c; #costs\n",
    "set b; #constraints\n",
    "set A; #somehow to define, maybe as big matrix with a lot of entrys = 0\n",
    "\n",
    "\n",
    "initial values = invar?\n",
    "set invar; #edges\n",
    "reduced cost at beginning zero\n",
    "#restricted master problem:\n",
    "while reducedcost is negative  (dowhile would be better) \n",
    "\n",
    "    var lambda{invar}\n",
    "    minimize restrictedMaster:\n",
    "        sum{i in size(invar)}(sum\n",
    "\n",
    "\n",
    "    #M to specify what it is, it changes\n",
    "    for i = 1..M\n",
    "        #domain of interest\n",
    "        set di = {N[i]..N[i+1]-1}\n",
    "            set ki = {M[i]..M[i+1]-1}\n",
    "            var z{di};\n",
    "            minimize reducedcost[i]: \n",
    "                sum{j in di} (c[j] - sum{k in ki}(y[k]*a[k,j]))*z[j];\n",
    "            \n",
    "            subject to simpleconstraintsi{j in di}:\n",
    "                sum{k in kj} a[j,k]*y[j] <= b[j];\n",
    "                \n",
    "            store solution\n",
    "            \n",
    "            check nonnegativity\n",
    "            \n",
    "            if yes do, \n",
    "            \n",
    "            else\n",
    "            \n",
    "        end\n",
    "        update reduced cost\n",
    "        update M\n",
    "        update invar\n",
    "        \n",
    "end"
   ]
  }
 ],
 "metadata": {
  "kernelspec": {
   "display_name": "Python 3",
   "language": "python",
   "name": "python3"
  },
  "language_info": {
   "codemirror_mode": {
    "name": "ipython",
    "version": 3
   },
   "file_extension": ".py",
   "mimetype": "text/x-python",
   "name": "python",
   "nbconvert_exporter": "python",
   "pygments_lexer": "ipython3",
   "version": "3.6.4"
  }
 },
 "nbformat": 4,
 "nbformat_minor": 2
}
